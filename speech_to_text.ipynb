{
  "nbformat": 4,
  "nbformat_minor": 0,
  "metadata": {
    "colab": {
      "provenance": [],
      "gpuType": "T4",
      "authorship_tag": "ABX9TyPRg8EuyRUZplpM+16J6BRs",
      "include_colab_link": true
    },
    "kernelspec": {
      "name": "python3",
      "display_name": "Python 3"
    },
    "language_info": {
      "name": "python"
    },
    "accelerator": "GPU"
  },
  "cells": [
    {
      "cell_type": "markdown",
      "metadata": {
        "id": "view-in-github",
        "colab_type": "text"
      },
      "source": [
        "<a href=\"https://colab.research.google.com/github/Faisalabdulmajid/colabolatory/blob/main/speech_to_text.ipynb\" target=\"_parent\"><img src=\"https://colab.research.google.com/assets/colab-badge.svg\" alt=\"Open In Colab\"/></a>"
      ]
    },
    {
      "cell_type": "code",
      "execution_count": null,
      "metadata": {
        "colab": {
          "base_uri": "https://localhost:8080/"
        },
        "id": "02Q2dP_sfGGp",
        "outputId": "4e4fae65-701b-4314-c77a-5588dade7e8d"
      },
      "outputs": [
        {
          "output_type": "stream",
          "name": "stdout",
          "text": [
            "Collecting SpeechRecognition\n",
            "  Downloading SpeechRecognition-3.14.1-py3-none-any.whl.metadata (31 kB)\n",
            "Collecting pydub\n",
            "  Downloading pydub-0.25.1-py2.py3-none-any.whl.metadata (1.4 kB)\n",
            "Collecting ffmpeg\n",
            "  Downloading ffmpeg-1.4.tar.gz (5.1 kB)\n",
            "  Preparing metadata (setup.py) ... \u001b[?25l\u001b[?25hdone\n",
            "Requirement already satisfied: typing-extensions in /usr/local/lib/python3.11/dist-packages (from SpeechRecognition) (4.12.2)\n",
            "Downloading SpeechRecognition-3.14.1-py3-none-any.whl (32.9 MB)\n",
            "\u001b[2K   \u001b[90m━━━━━━━━━━━━━━━━━━━━━━━━━━━━━━━━━━━━━━━━\u001b[0m \u001b[32m32.9/32.9 MB\u001b[0m \u001b[31m55.1 MB/s\u001b[0m eta \u001b[36m0:00:00\u001b[0m\n",
            "\u001b[?25hDownloading pydub-0.25.1-py2.py3-none-any.whl (32 kB)\n",
            "Building wheels for collected packages: ffmpeg\n",
            "  Building wheel for ffmpeg (setup.py) ... \u001b[?25l\u001b[?25hdone\n",
            "  Created wheel for ffmpeg: filename=ffmpeg-1.4-py3-none-any.whl size=6082 sha256=e98ed9b5f01f8625f33c2a857ddc7e11d543094b4f7d30e86e40d33abb99e5c4\n",
            "  Stored in directory: /root/.cache/pip/wheels/56/30/c5/576bdd729f3bc062d62a551be7fefd6ed2f761901568171e4e\n",
            "Successfully built ffmpeg\n",
            "Installing collected packages: pydub, ffmpeg, SpeechRecognition\n",
            "Successfully installed SpeechRecognition-3.14.1 ffmpeg-1.4 pydub-0.25.1\n"
          ]
        }
      ],
      "source": [
        "!pip install SpeechRecognition pydub ffmpeg\n"
      ]
    },
    {
      "cell_type": "code",
      "source": [
        "from google.colab import files\n",
        "\n",
        "# Mengunggah file audio\n",
        "uploaded = files.upload()\n"
      ],
      "metadata": {
        "colab": {
          "base_uri": "https://localhost:8080/",
          "height": 73
        },
        "id": "RS9CWXsCfOzh",
        "outputId": "e26aa20d-aa16-41ae-f677-19e5151ba24e"
      },
      "execution_count": null,
      "outputs": [
        {
          "output_type": "display_data",
          "data": {
            "text/plain": [
              "<IPython.core.display.HTML object>"
            ],
            "text/html": [
              "\n",
              "     <input type=\"file\" id=\"files-cca29284-2b5f-4bfc-94ed-1eba95188226\" name=\"files[]\" multiple disabled\n",
              "        style=\"border:none\" />\n",
              "     <output id=\"result-cca29284-2b5f-4bfc-94ed-1eba95188226\">\n",
              "      Upload widget is only available when the cell has been executed in the\n",
              "      current browser session. Please rerun this cell to enable.\n",
              "      </output>\n",
              "      <script>// Copyright 2017 Google LLC\n",
              "//\n",
              "// Licensed under the Apache License, Version 2.0 (the \"License\");\n",
              "// you may not use this file except in compliance with the License.\n",
              "// You may obtain a copy of the License at\n",
              "//\n",
              "//      http://www.apache.org/licenses/LICENSE-2.0\n",
              "//\n",
              "// Unless required by applicable law or agreed to in writing, software\n",
              "// distributed under the License is distributed on an \"AS IS\" BASIS,\n",
              "// WITHOUT WARRANTIES OR CONDITIONS OF ANY KIND, either express or implied.\n",
              "// See the License for the specific language governing permissions and\n",
              "// limitations under the License.\n",
              "\n",
              "/**\n",
              " * @fileoverview Helpers for google.colab Python module.\n",
              " */\n",
              "(function(scope) {\n",
              "function span(text, styleAttributes = {}) {\n",
              "  const element = document.createElement('span');\n",
              "  element.textContent = text;\n",
              "  for (const key of Object.keys(styleAttributes)) {\n",
              "    element.style[key] = styleAttributes[key];\n",
              "  }\n",
              "  return element;\n",
              "}\n",
              "\n",
              "// Max number of bytes which will be uploaded at a time.\n",
              "const MAX_PAYLOAD_SIZE = 100 * 1024;\n",
              "\n",
              "function _uploadFiles(inputId, outputId) {\n",
              "  const steps = uploadFilesStep(inputId, outputId);\n",
              "  const outputElement = document.getElementById(outputId);\n",
              "  // Cache steps on the outputElement to make it available for the next call\n",
              "  // to uploadFilesContinue from Python.\n",
              "  outputElement.steps = steps;\n",
              "\n",
              "  return _uploadFilesContinue(outputId);\n",
              "}\n",
              "\n",
              "// This is roughly an async generator (not supported in the browser yet),\n",
              "// where there are multiple asynchronous steps and the Python side is going\n",
              "// to poll for completion of each step.\n",
              "// This uses a Promise to block the python side on completion of each step,\n",
              "// then passes the result of the previous step as the input to the next step.\n",
              "function _uploadFilesContinue(outputId) {\n",
              "  const outputElement = document.getElementById(outputId);\n",
              "  const steps = outputElement.steps;\n",
              "\n",
              "  const next = steps.next(outputElement.lastPromiseValue);\n",
              "  return Promise.resolve(next.value.promise).then((value) => {\n",
              "    // Cache the last promise value to make it available to the next\n",
              "    // step of the generator.\n",
              "    outputElement.lastPromiseValue = value;\n",
              "    return next.value.response;\n",
              "  });\n",
              "}\n",
              "\n",
              "/**\n",
              " * Generator function which is called between each async step of the upload\n",
              " * process.\n",
              " * @param {string} inputId Element ID of the input file picker element.\n",
              " * @param {string} outputId Element ID of the output display.\n",
              " * @return {!Iterable<!Object>} Iterable of next steps.\n",
              " */\n",
              "function* uploadFilesStep(inputId, outputId) {\n",
              "  const inputElement = document.getElementById(inputId);\n",
              "  inputElement.disabled = false;\n",
              "\n",
              "  const outputElement = document.getElementById(outputId);\n",
              "  outputElement.innerHTML = '';\n",
              "\n",
              "  const pickedPromise = new Promise((resolve) => {\n",
              "    inputElement.addEventListener('change', (e) => {\n",
              "      resolve(e.target.files);\n",
              "    });\n",
              "  });\n",
              "\n",
              "  const cancel = document.createElement('button');\n",
              "  inputElement.parentElement.appendChild(cancel);\n",
              "  cancel.textContent = 'Cancel upload';\n",
              "  const cancelPromise = new Promise((resolve) => {\n",
              "    cancel.onclick = () => {\n",
              "      resolve(null);\n",
              "    };\n",
              "  });\n",
              "\n",
              "  // Wait for the user to pick the files.\n",
              "  const files = yield {\n",
              "    promise: Promise.race([pickedPromise, cancelPromise]),\n",
              "    response: {\n",
              "      action: 'starting',\n",
              "    }\n",
              "  };\n",
              "\n",
              "  cancel.remove();\n",
              "\n",
              "  // Disable the input element since further picks are not allowed.\n",
              "  inputElement.disabled = true;\n",
              "\n",
              "  if (!files) {\n",
              "    return {\n",
              "      response: {\n",
              "        action: 'complete',\n",
              "      }\n",
              "    };\n",
              "  }\n",
              "\n",
              "  for (const file of files) {\n",
              "    const li = document.createElement('li');\n",
              "    li.append(span(file.name, {fontWeight: 'bold'}));\n",
              "    li.append(span(\n",
              "        `(${file.type || 'n/a'}) - ${file.size} bytes, ` +\n",
              "        `last modified: ${\n",
              "            file.lastModifiedDate ? file.lastModifiedDate.toLocaleDateString() :\n",
              "                                    'n/a'} - `));\n",
              "    const percent = span('0% done');\n",
              "    li.appendChild(percent);\n",
              "\n",
              "    outputElement.appendChild(li);\n",
              "\n",
              "    const fileDataPromise = new Promise((resolve) => {\n",
              "      const reader = new FileReader();\n",
              "      reader.onload = (e) => {\n",
              "        resolve(e.target.result);\n",
              "      };\n",
              "      reader.readAsArrayBuffer(file);\n",
              "    });\n",
              "    // Wait for the data to be ready.\n",
              "    let fileData = yield {\n",
              "      promise: fileDataPromise,\n",
              "      response: {\n",
              "        action: 'continue',\n",
              "      }\n",
              "    };\n",
              "\n",
              "    // Use a chunked sending to avoid message size limits. See b/62115660.\n",
              "    let position = 0;\n",
              "    do {\n",
              "      const length = Math.min(fileData.byteLength - position, MAX_PAYLOAD_SIZE);\n",
              "      const chunk = new Uint8Array(fileData, position, length);\n",
              "      position += length;\n",
              "\n",
              "      const base64 = btoa(String.fromCharCode.apply(null, chunk));\n",
              "      yield {\n",
              "        response: {\n",
              "          action: 'append',\n",
              "          file: file.name,\n",
              "          data: base64,\n",
              "        },\n",
              "      };\n",
              "\n",
              "      let percentDone = fileData.byteLength === 0 ?\n",
              "          100 :\n",
              "          Math.round((position / fileData.byteLength) * 100);\n",
              "      percent.textContent = `${percentDone}% done`;\n",
              "\n",
              "    } while (position < fileData.byteLength);\n",
              "  }\n",
              "\n",
              "  // All done.\n",
              "  yield {\n",
              "    response: {\n",
              "      action: 'complete',\n",
              "    }\n",
              "  };\n",
              "}\n",
              "\n",
              "scope.google = scope.google || {};\n",
              "scope.google.colab = scope.google.colab || {};\n",
              "scope.google.colab._files = {\n",
              "  _uploadFiles,\n",
              "  _uploadFilesContinue,\n",
              "};\n",
              "})(self);\n",
              "</script> "
            ]
          },
          "metadata": {}
        },
        {
          "output_type": "stream",
          "name": "stdout",
          "text": [
            "Saving Ciung wanara sesi 1.m4a to Ciung wanara sesi 1.m4a\n"
          ]
        }
      ]
    },
    {
      "cell_type": "code",
      "source": [
        "\n",
        "# Ambil nama file\n",
        "file_name = list(uploaded.keys())[0]\n",
        "print(f\"File '{file_name}' berhasil diunggah.\")"
      ],
      "metadata": {
        "colab": {
          "base_uri": "https://localhost:8080/"
        },
        "id": "kkq71s_YfVN3",
        "outputId": "5addc6e9-f173-42d8-c2f2-a5d5f6a1e68a"
      },
      "execution_count": null,
      "outputs": [
        {
          "output_type": "stream",
          "name": "stdout",
          "text": [
            "File 'Ciung wanara sesi 1.m4a' berhasil diunggah.\n"
          ]
        }
      ]
    },
    {
      "cell_type": "code",
      "source": [
        "from pydub import AudioSegment\n",
        "\n",
        "# Konversi file .m4a menjadi .wav\n",
        "audio = AudioSegment.from_file(file_name, format=\"m4a\")\n",
        "wav_file = \"audio.wav\"\n",
        "audio.export(wav_file, format=\"wav\")\n",
        "print(f\"File berhasil dikonversi ke {wav_file}\")\n"
      ],
      "metadata": {
        "colab": {
          "base_uri": "https://localhost:8080/"
        },
        "id": "tex46CXggmRv",
        "outputId": "11517c4b-287c-4a30-986a-238ca9e51d02"
      },
      "execution_count": null,
      "outputs": [
        {
          "output_type": "stream",
          "name": "stdout",
          "text": [
            "File berhasil dikonversi ke audio.wav\n"
          ]
        }
      ]
    },
    {
      "cell_type": "code",
      "source": [
        "import math\n",
        "from pydub import AudioSegment\n",
        "\n",
        "# Durasi audio dalam milidetik\n",
        "audio = AudioSegment.from_file(wav_file, format=\"wav\")\n",
        "duration_ms = len(audio)\n",
        "print(f\"Durasi audio: {duration_ms / 60000:.2f} menit\")\n",
        "\n",
        "# Fungsi untuk memotong audio per menit\n",
        "def split_audio(audio, interval_ms):\n",
        "    parts = []\n",
        "    for start in range(0, len(audio), interval_ms):\n",
        "        end = min(start + interval_ms, len(audio))\n",
        "        parts.append(audio[start:end])\n",
        "    return parts\n",
        "\n",
        "# Memotong audio menjadi bagian per menit (60000 ms)\n",
        "interval = 60000  # 1 menit dalam milidetik\n",
        "audio_parts = split_audio(audio, interval)\n",
        "print(f\"Audio telah dibagi menjadi {len(audio_parts)} bagian.\")\n"
      ],
      "metadata": {
        "colab": {
          "base_uri": "https://localhost:8080/"
        },
        "id": "ryWKM_uVg01E",
        "outputId": "2fa7f8d3-191b-48b2-f3a9-9edb660c7c9e"
      },
      "execution_count": null,
      "outputs": [
        {
          "output_type": "stream",
          "name": "stdout",
          "text": [
            "Durasi audio: 56.50 menit\n",
            "Audio telah dibagi menjadi 57 bagian.\n"
          ]
        }
      ]
    },
    {
      "cell_type": "code",
      "source": [
        "import speech_recognition as sr\n",
        "\n",
        "# Inisialisasi recognizer\n",
        "recognizer = sr.Recognizer()\n",
        "\n",
        "# Transkripsi setiap bagian audio\n",
        "transcriptions = []\n",
        "\n",
        "for i, part in enumerate(audio_parts):\n",
        "    # Simpan bagian audio sementara ke file\n",
        "    part_file = f\"part_{i + 1}.wav\"\n",
        "    part.export(part_file, format=\"wav\")\n",
        "\n",
        "    with sr.AudioFile(part_file) as source:\n",
        "        print(f\"Transkripsi bagian {i + 1}...\")\n",
        "        audio_data = recognizer.record(source)\n",
        "\n",
        "    try:\n",
        "        # Ubah audio menjadi teks (Bahasa Indonesia)\n",
        "        text = recognizer.recognize_google(audio_data, language=\"id-ID\")\n",
        "        transcriptions.append(f\"Bagian {i + 1}:\\n{text}\\n\")\n",
        "        print(f\"Teks bagian {i + 1}: {text}\")\n",
        "    except sr.UnknownValueError:\n",
        "        transcriptions.append(f\"Bagian {i + 1}:\\n[Audio tidak dikenali]\\n\")\n",
        "        print(f\"Bagian {i + 1}: [Audio tidak dikenali]\")\n",
        "    except sr.RequestError as e:\n",
        "        transcriptions.append(f\"Bagian {i + 1}:\\n[Error: {e}]\\n\")\n",
        "        print(f\"Bagian {i + 1}: [Error: {e}]\")\n"
      ],
      "metadata": {
        "colab": {
          "base_uri": "https://localhost:8080/"
        },
        "id": "5d4seTkXg7Yt",
        "outputId": "d2740e75-536c-44bb-b1ce-f63fa86dd854"
      },
      "execution_count": null,
      "outputs": [
        {
          "output_type": "stream",
          "name": "stdout",
          "text": [
            "Transkripsi bagian 1...\n",
            "Teks bagian 1: bapaknya pesantren Langitan\n",
            "Transkripsi bagian 2...\n",
            "Teks bagian 2: ini langsung kayak gini apa gimana gimana itu\n",
            "Transkripsi bagian 3...\n",
            "Teks bagian 3: di Kawitan ke Bismillahirohmanirohim Assalamualaikum warahmatullahi wabarakatuh Waalaikumsalam warahmatullahi wabarakatuh penelitian atau Apa ya Bilangnya itu apa mau bikin video ya tentang sejarah Ciung Wanara alhamdulillah di sini dulu bekas pusat pemerintahan kerajaan Galuh jadi ini kalau di kabupaten ini bekas pendopo atau ruang musyawarah dulu kenapa ada Bang carikan di sana ada bekas duduknya di dalam sana batunya batu putih itu ukuran batu itu 90 cm persegi empat jadi menurut cerita batu itu datangnya ke\n",
            "Transkripsi bagian 4...\n",
            "Teks bagian 4: tunik berbentuk cahaya atau sinar jadi sejenis batu meteor Nah sudah turun batu itu baru di sini punya nama karangkamulyan dalam arti karang itu kan pekarangan halaman atau tempat di sini tempat yang mulia di sini nama rajanya Nama lengkapnya Prabu Galuh Ratu pusaka Prabu adimulia Sanghyang Cipta Permana Adi Kusuma kalau misalkan di sini peninggalan bersejarahnya apa aja gitu loh jadi kan ini semuanya mau kasih atau peninggalan atau situs di sini semuanya ada 9 peninggalan ya 9 peninggalan termasuk ini baru lokasi pertama Nanti kalau kita lanjut ke lokasi yang lain ini kan bekas pusatnya di sana dulu Oh ya\n",
            "Transkripsi bagian 5...\n",
            "Teks bagian 5: Nah itu bekas duduknya Oh ya itu bekas duduknya atau singgasananya yang tadi saya ceritakan batunya batu putih itu karena di sini tempat yang paling sakral atau disakralkan jadi di sini nggak bisa masuk ke tempat itu kecuali ada izin suruh kunci jadi nggak bisa sembarangan ada pertanyaan lagi lanjut lanjut\n",
            "Transkripsi bagian 6...\n",
            "Teks bagian 6: nama kerajaan Galuh gitu ya Pak kerajaan Galuh maksudnya dari nama Kan ada namanya tuh Iya jadi kan kalau keturunannya banyak jadi itu kan sebenarnya itu gelar kan gelar itu Prabu Galuh itu gelar itu yang nama aslinya itu Prabu Adi Mulia Sang Hyang Cipta Permana dikusumah itu nama aslinya itu gelar Prabu Galuh berarti pusaka Oh ya dia kan punya permaisuri dia punya permen Suri yang namanya Ibu Dewi naganingrum Nah dari Ibu Dewi naganingrum dia punya anak Ciung Wanara Ciung Wanara yang menikah dengan permaisuri yang namanya Kencana wangi punya anak Dewi Ayu Purbasari Purbasari yang menikah dengan guru Minda Lutung Kasarung Nah dari guru Mila baru banyak lagi\n",
            "Transkripsi bagian 7...\n",
            "Teks bagian 7: generasinya atau turunannya kaya Prabu Lingga hias Lingga Wesi Kencana anggalarang cakradewa Prabu Sunggal gerbang Menak baru Prabu Siliwangi jadi Prabu Siliwangi dari Ciung Wanara udah 12 generasi atau 12 keturunan Kenapa Prabu Siliwangi punya anak Kian Santang Rara Santang baru ketemu dengan Galuh Islam Jadi kalau kita mau cari Kian Santang sudah ada kuburannya di Garut yang terkenal Syekh Rohmat Suci kalau larasantang wanita karena dulu senang mengembara sampai ke tanah Mesir ketemu dengan Raja Mesir dipisahkan dengan Raja Mesir nanti dia punya anak yang di Cirebon saya secara Hidayatullah Sunan Gunung Jati akhirnya ke Banten sehat dan jadi awalnya dari sini ini kenapa nih pak ini dibilangnya Ciung Wanara kan tadi bilangnya cuma nanya tuh anaknya siapa tadi\n",
            "Transkripsi bagian 8...\n",
            "Teks bagian 8: ya Kenapa disebutnya ini Ciung Wanara jadi disebut sungai itu waktu dia saya berada di sana di sabung ayam karena ini kerajaan itu udah dipakai taruhan sama patihnya yang namanya Fatih tamparan darmawijaya atau Bondan Saragi karena mungkin dia belum punya nama Ya dikasih nama sama pamannya kakeknya itu Ciung Wanara iya iya ada nggak pak apa ya cerita menarik yang masih diyakini oleh masyarakat sekitar dibuka cuman belum dikeluarkan itu kemarin itu hari Senin di sini harus Senin tanggal sebelum bulan Ramadan Nah di sini sering ada upacara yang disebut upacara adat Bugis atau doa bersama itu tiap tahun itu diharuskan bukan uupa\n",
            "Transkripsi bagian 9...\n",
            "Teks bagian 9: doa bersama itu mager itu kan batu itu di pagar Kenapa dipagar namanya bulan suci Ramadan pasti banyak rintangan kita mudah-mudahan sudah dipagar segala macam ya bakal masuk ke badan kita itu kalau udah di pagar mungkin nggak bakal bisa masuk untuk membersihkan membersihkan diri kita supaya kita suci itu artinya Niti sih jadi masih ada ritual-ritual kayak tiap tahun tiap tahun sebelum mau kalau nggak salah satu minggu atau 4 hari sebelum memasuki bulan suci Ramadan Jadi kalau enggak ngambil hari Senin Itu hari Kamis jadi itu udah patokan itu itu udah tradisinya sama sekali ya lanjut\n",
            "Transkripsi bagian 10...\n",
            "Teks bagian 10: buka juga ada kan Iya sih banyak banyak banget tapi pengen pengen tahu gitu loh aslinya gimana ya langsung lapangan soalnya banyak banget kan kalau misalkan di Google ada yang hoax atau yang ada ada gitu loh dia ada-adain padahal nggak sesuai dengan tersurat kalau saya di sini mau ceritakan cerita turun temurun jadi nggak bisa dikurangin nggak bisa ditambahin jadi seadanya kalau yang tersurat kan udah bisa dibekukan enggak usah Tebal berapa ratus halaman tinggal berapa ini 9 ya 9 lokasi semuanya saya nanya Tadi mau semuanya saya sendiri yang ke kiri yang ke kanan kalau yang ke kanan itu enggak ada peninggalan cuman Sungai Citanduy\n",
            "Transkripsi bagian 11...\n",
            "Teks bagian 11: ini yang dulunya bekas dihanyutkan baitun Wanara yang lurus ketemu situs Paman Conan Ada kuburan terakhir pertemuan Sungai Patimuan kalau yang ke sini sampai panyandaan paling dekat ke sana dari sini aja udah 800 meter gimana mau semuanya atau mau ya yang asli karena kalau biasanya gede Kawali itu jaraknya peninggalannya udah pada dekat-dekat jadi gua jauh kalau asalnya gede Kalau ke sana gede Kawali itu jaraknya mungkin berapa meter udah situs termometer udah situ kalau di sini kan jalannya nih tadi kan mau ke sabung ayam kan udah hitungan 300 meter kemungkinan orang-orang dulu-dulunya mungkin ya terus seterusnya yang mungkin di air ikan atau gimana Saya kurang tahu itu kan kalau\n",
            "Transkripsi bagian 12...\n",
            "Teks bagian 12: cuman kalau yang asli itu menurut saya itu di sini karena jaraknya masih jauh-jauh Yang lain udah pada berdekatan saya lumayan juga ya Iya makanya saya tadi ngomong gitu kan Ya Pak ini itu apa ini yang disebut Sanghyang bedil itu Sanghyang bedil itu dulunya bekas penyimpanan alat-alat perangnya atau gudang senjata karena ini masih prasejarah Jadi kemungkinan kalaupun ada alat perangnya ini masih terbuat dari batu karena di sini belum mengenal logam Jadi kalau sudah mengenal logam berarti kan udah masa-masa Islam nah ini masih prasejarah jadi menurut perkiraan ini menurut perkiraan Ini obatnya itu abad 56 sebelum masehi itu menurut perkiraan ini yang disebut sang yang beliau bekas penyimpanan alat-alat perang atau\n",
            "Transkripsi bagian 13...\n",
            "Teks bagian 13: di sini disimpannya karena di sini berdekatan dengan sabung ayam ini sabung ayam ini dulu bekas sayembara nya Ciung Wanara untuk memilih seorang raja nah ini sebuah lapangan arena lapangan aja dulu sebesar begini Kenapa di sini ada sabung ayam karena itu dulu sementara kerajaannya di masyarakat dharmawijaya Jadi kata si Fatih Siapa yang bisa mengalahkan ayam-nya dia itu separuh kerajaan Galuh mau dikasihkan makanya ini berdekatan kenapa udah berdekatan karena mungkin bahasanya udah bahasa filosofi namanya sabung ayam bekas sayembara Mungkin banyak orang kan takutnya ada keributan untuk mengantisipasi keributan cepat kan ngambil alat perangnya di sini untuk mengamankan diri kita jadi orang-orang dulu juga udah bener strategi lah atau cara berkurangnya Bagaimana udah udah benar-benar lebih dari kita kita sekarang gitu ini\n",
            "Transkripsi bagian 14...\n",
            "Teks bagian 14: namanya sayembara ribut kalau alat pulangnya jauh di depan tadi dekat itu Singgasana mungkin salary dulu ya Iya tapi kan mungkin ada yang meninggal atau gimana Jadi kan kalau udah kena cepat untuk mengamankan itu yang disebut yang di tengah itu peninggalannya Kalau yang ini Ini Punden atau pembatas ruangan jadi ini Punden atau pemerintah ruangan ini jenisnya kan jenis batu kali atau batu andesit ini Punden karena ini masih prasejarah ini masih sangat sederhana Jadi kemungkinan kalau ini Punden udah dimasakin Hindu kemungkinan udah\n",
            "Transkripsi bagian 15...\n",
            "Teks bagian 15: berundak kalau kerja itu yang penting asal bisa dipasang udah kalau mungkin kalau masa hindu kan belum mengenal bagusnya harus begini posisinya atau gimananya gitu kan itu udah masa hindu kalau prasejarah itu masih sangat sederhana karena kalau amarah kalau nafsu kita buat kalau nggak bisa dibendung itu bisa berbahaya jadi menurut perkiraan menurut cerita orang-orang tua dulu itu nafsu itu sangat berbahaya tapi kalau kita bisa diperangi Insyaallah itu bakal berarti kita ngambil contoh Mohon maaf jadi panjangnya sedikit kita ngambil contoh\n",
            "Transkripsi bagian 16...\n",
            "Teks bagian 16: kalau kita di rumah segala macam ada itu pasti nafsu itu keluar karena uang banyak Kalau banyak Iya benar tapi kalau bisa dikendalikan dulu ya silakan kalau kita main ke mall silakan itu harus karena refreshing harus ada tapi kan biasanya tiap hari kalau udah di perang ya Wa nafsu 1 bulan sekali dan 29 hari mungkin ada sisa uang kebutuhannya ada berapa orang\n",
            "Transkripsi bagian 17...\n",
            "Teks bagian 17: maksudnya buat ngurus-ngurus kayak gini itu tempat-tempat ini jadi kebetulan itu yang merawat situs ini peninggalan di sini itu kalau yang khusus yang di sini kan kalau suruh buat di Ciamis banyak juga Iya Jadi kalau yang di sini ada 9 orang 9 orang 9 orang ini berarti 1 situs 1 orang 1 orang 1 jalur saya itu dari depan tadi dari pengecatan sampai sini merawatnya itu makanya Ya beginilah keberkahan dari Allah itu yang lainnya pada di sana Iya jadi satu itu satu orang yang nanti di depan sampai sana si Kahuripan walaupun sampai karena setiap orang lagi gitu Jadi satu orang cuman ada yang panjang ada yang sedang ada yang pendek itu ya mungkin nasib Lah iya iya\n",
            "Transkripsi bagian 18...\n",
            "Teks bagian 18: Agung kebetulan kan yang petugas yang merawat situs peninggalan ini kan kebetulan dari BPK 9 dan Indonesianya ada nggak apa-apa ada nggak kalau misalkan di sini senjata yang kelihatan banget gitu sampai sekarang ada enggak maksudnya peninggalan senjata itu oh jadi gitu ya jadi kalau kalau bahasa itu ya kalau bahasa itu jadikan ini namanya peninggalan ini saya juga kan kurang tahu Jadi kemungkinan-kemungkinan kayak senjata itu kemungkinan bisa aja ada cuman itu waktunya itu mungkin\n",
            "Transkripsi bagian 19...\n",
            "Teks bagian 19: nggak nggak bisa tiap hari terus nggak bisa 1 orang dikasih satu kalau belum bahasa sejarah itu kalau belum bagian itu nggak bakal tapi kalau udah bagian kita dengan serinya pasti datang ke rumah gitu kalau bahasa sejarahnya itu kan kalau diambil dari sejarah ini kan kalau bisa dari peninggalan Ini zaman batu kemungkinan kan kalau logam udah Islam obatnya udah abad 16 jauh kemungkinan Enggak bakal ada padahal dilihat dari ini peninggalan gitu kan karena kalau yang program itu udah masa Islam tapi ya mungkin namanya di sini saya juga kurang tahu apakah obatnya atau tahunya karena Yang resminya itu sejarah Galuh itu adanya di Belanda ada naskahnya di Belanda di Medan ya makanya sejarah\n",
            "Transkripsi bagian 20...\n",
            "Teks bagian 20: masih simpang siur lu yang akurat itu di Belanda Masa orang Belanda bisa bahasa Sunda dan dia pernah ke sini ada dosen semuanya kan di sana kan mungkin ada peninggalan karena dulu dibawa sama dia itu ke sana dibawa mungkin mau melihat lokasi situ sana Oh iya ternyata ikannya sama jeruk kunci pakai bahasanya jawabnya bahasa Sunda tapi di Belanda jadi bahkan sahur antena namun kurang Hoyong gaduh gelar S1 sastra Sunda kedatangan Emang di Indonesia\n",
            "Transkripsi bagian 21...\n",
            "Teks bagian 21: darah\n",
            "Transkripsi bagian 22...\n",
            "Teks bagian 22: ini lokasi lambang peribadatan ini lokasi lambang peribadatan lambang bekas keagamaan atau tempat beribadah Nah jadi ini batunya kan udah berbentuk stupa kan terus batu itu kan udah ada ukiran kalau yang lainnya kalau masih polos kan kalau yang ini udah ada pahatan Jadi kalau dilihat dengan posisi peninggalan ini berarti ini udah masakin karena dilihat dari batu udah stupa terus ada ukiran cuman Indonya belum sempurna karena yang Hindu sudah sempurna itu kayak Prambanan Borobudur itu udah sempurna kalau ini masih sangat sederhana ini lambang peribadatan lambang bekas keagamaan atau tempat beribadah\n",
            "Transkripsi bagian 23...\n",
            "Teks bagian 23: nah cuman di Sini versi kan ada dua versi para arkeolog dengan versi masyarakat mudah berbeda jadi menurut para arkeolog ini udah masa hindu tapi kalau menurut versi masyarakat ini peninggalan dibuka dari abad 16 jadi masyarakat itu melihat ujung batunya yang di bawah yang Lancip itu udah menunjukkan arah kiblat nah yang selanjutnya udah menunjukkan arah kiblat jadi menurut versi masyarakat ini dulu bekas masjidnya Masjid Agung atau tempat beribadah kita ngambil logika kita ngambil logika di bawah itu ada pemandiannya mungkin pada mandi ngambil wudhu lalu berjamaah menurut versi masyarakat kalau versi arkeolog ini\n",
            "Transkripsi bagian 24...\n",
            "Teks bagian 24: melihat dari bahasa ukirannya atau Bentuknya itu ada ukiran kan berarti kan dia udah mengenal tapi cuma belum sempurna ini udah masa hindu ini lambang peribadatan lambang bekas keagamaannya atau tempat beribadah Hindu\n",
            "Transkripsi bagian 25...\n",
            "Teks bagian 25: pemandian di sini dulu bekas pemandian di zaman masa kerajaan ya di sini dulu bekas mandinya permaisuri juga di sini di sini air itu cikahuripan ada 2 Sumber citeguh sama cirahayu dalam arti Teguh berarti segala macam pun kita harus yakin bukan yakin sama air tapi yakin sama Tuhan Rahayu Rahayu itu selamat arti selamat itu luas jadi ini dulunya bekas pemandian di zaman masa kerajaan Galuh di sini cikahuripan ada dua sumber citeguh sama si Rahayu Teguh itu yakin terakhir selamat hirup Nah di sini ini airnya di dalam ini airnya kalau coba\n",
            "Transkripsi bagian 26...\n",
            "Teks bagian 26: nah ini airnya ini yang di luar ini si Rahayu Rahayu Rahayu Rahayu yang di luar ini yang di dalam yang Pancuran itu si Teguh 8 curang citeguh Kalau yang ini yang diubah di Kahuripan ini airnya tuh terus mengalir Pak yang yang mengalir kalau musim hujan mengalir tapi kalau musim kemarau ya mungkin agak kering Nah jadi ini dulunya bekas pemandian di zaman masa kerajaan mau coba yang tengah cuci muka boleh Enggak boleh tapi hati-hati HP takutnya hujan\n",
            "Transkripsi bagian 27...\n",
            "Teks bagian 27: model rekap apanya Iya 12 sama itu pohon penjahat nah ini yang disebut panyandaan penyandaan itu dulu bekas seleran ibunya Ciung Wanara sehabis melahirkan Jadi kalau orang-orang dulu kalau sehabis melahirkan diharuskan gender Kenapa diharuskan karena kalau di wanita\n",
            "Transkripsi bagian 28...\n",
            "Teks bagian 28: itu kebanyakan darah putih jadi kalau sehabis melahirkan di bawah tidur mohon maaf darah putih mengalir nanti masuk ke mata itu bisa mengakibatkan kebutaan atau rabun jadi orang-orang dulu itu masih dipakai tradisinya sama adatnya jadi sehabis lahiran pasti gender yang lamanya 40 hari 40 malam dia bersabar 40 hari 40 malam untuk apa untuk menjaga mata kondisi tubuhnya kalau sekarang karena zaman modern zaman canggih sekarang banyak medis baru satu minggu aja udah bisa bawa angkat yang berat bisa kena kemana sebenarnya itu darahnya masih luka jadi harusnya sebelum 40 hari jangan kemana-mana itu bagus contoh nenek kita Kakek kita kan kita memasukkan benang kalian\n",
            "Transkripsi bagian 29...\n",
            "Teks bagian 29: kan udah pakai alat bikin susah tapi nenek kita kan masuk Wah bagus karena itu prosesnya masih dipakai Jadi ini dulu bekas senderan ibunya melahirkan yang lamanya itu 40 hari 40 malam ya sebelum 40 hari 40 malam dia nggak bisa kemana-mana kenapa\n",
            "Transkripsi bagian 30...\n",
            "Teks bagian 30: ruang bersalin dulu bekas dilahirkan bayi Ciung Wanara atau mungkin kalau sekarang Puskesmas memakai ini apa\n",
            "Transkripsi bagian 31...\n",
            "Teks bagian 31: penasaran banget cuman tadi desain yang gede kan ada di sini ada ya Jadi ini kan mungkin kita ngambil bahasa logika ini kan bekas permaisuri ya jadi permaisuri kalau nggak dijaga jadi ini Mungkin dulunya bekas security atau pos penjagaan atau keamanan karena ini Jadi mungkin kalau dia pingin apel langsung Kalau bedil tadi kayak begini kalau namanya senjata kalau nggak dijaga takutnya orang-orang yang itu sembarangan ngambil senjata tapi kalau dijaga kan aman cuman di sini sang yang gede sama paman Conan itu nangka tahu nangka kuning\n",
            "Transkripsi bagian 32...\n",
            "Teks bagian 32: kalau penasaran bawa aja langsung udah bener dibuka tumbukannya di zaman masa kerajaan itu menurut waktu penelitian dari UGM sama IPB Bogor\n",
            "Transkripsi bagian 33...\n",
            "Teks bagian 33: diambil tanahnya sedikit masukin grab muncul nggak namanya beda dengan Kebun Raya kalau Kebun Raya kan begitu diambil sampelnya langsung keluar namanya Iya kalau di sini ya silakan kalau mau jawaban nanti kedepannya ngobrol sama maupun penelitian pengen tahu nama-nama pohon di sini soalnya lumayan ya tinggi-tinggi banget nah kayak pohon ini ini kan Tapi bilang kan nggak ada durinya ini ada durinya Nah ini mungkin ini Pohon langka karena kalau ini kalau menurut cerita orang-orang sini bukan Pinang tapi namanya haniwung Iya ini kan banyak durinya spidolnya kan kayak Pinang ini ada buahnya juga ayo\n",
            "Transkripsi bagian 34...\n",
            "Teks bagian 34: kalau mau dibawa diteliti boleh ini disebut Pohon langka di sini masih banyak pohon-pohon langka karena menurutnya masih asli Masih alam Kenapa dia mengatakan begitu karena pohon kondisi ini belum tercampuri tanaman luar ini masih asli bawaannya makanya dia monitor kayak ada pohon gurah haul untuk orang sini berawal namanya itu kaya kaya Sawo itu duitnya bekas makanan putri-putri itu kan posisi yang disebut Pohon langka itu kenapa Kan kalau yang lain dari ranting kan kalau ini dari batang buah\n",
            "Transkripsi bagian 35...\n",
            "Teks bagian 35: itu dulu bekas makanan putih-putih supaya tidak bau badan tuh Manis juga banyak banget pohon yang nggak diketahui masih alam karena itu hutan kota Yang masih asli belum tercampur\n",
            "Transkripsi bagian 36...\n",
            "Teks bagian 36: hati-hati harus ekstra hati-hati jangan rusuh-rusuh pengen terburu-buru Pak ada nggak penelitian baru gitu yang dilakukan di sini di situs ini maksudnya penelitian dari mana teknologi apa sih tanda tangan teknologi atau gimana gitu ya ini kalau di sini belum ada dulu juga Tahun berapa Saya lahir di dari penggalian itu dari arti Allah itu ada penggalian yang dalamnya kurang lebih 1 meter setengah Apakah di sini pra-sejarah Apakah di sini masa hindu Apakah di sini masa Islam Jadi dia penasaran dia teliti Jadi kalau dilihat dari posisi peninggalan di bawah tanah itu sama kayak Punden\n",
            "Transkripsi bagian 37...\n",
            "Teks bagian 37: ini pernah digali kedalaman 1 meter setengah itu Punden gunung apa tumpuan tumpukan batu gitu kan sama jadi yang mana sih yang sebenarnya jadi sangat Di sini masih hidup karena belum ada penelitian secara besar-besaran kan Iya bisa membingungkan masih belum diketahui karena ngambilnya yang turun temurun dari ini peninggalan dibuka dari abad 16 sampai sekarang ya Bahasanya cuman gitu-gitu aja kalau ditambahin katanya Kurang apa ya upaya pemerintahan buat ngejaga Apa situs ini ya Alhamdulillah mungkin karena di sini kan pemerintah itu hutan ini dipegang sama 3 orang lah atau tiga instansi ya Ada dari Dinas Pariwisata\n",
            "Transkripsi bagian 38...\n",
            "Teks bagian 38: kehutanan Dinas Kebudayaan Jadi kalau yang situs yang merawatnya itu dari kebudayaan kalau yang menarik pad itu pariwisata ini kalau kayu-kayu yang punya kehutanan kirim masih sangat membingungkan kalau di sini Siapa sih yang punya yang sebenarnya iya tapi apa pemerintah cuman kalau di sini nggak bisa semena-mena karena banyak yang megang kalau mau bikin acara ke sini mungkin harus ke prestasi\n",
            "Transkripsi bagian 39...\n",
            "Teks bagian 39: Iya buat kelestarian di sini ya kalau undang-undang cagar budaya Ya itu bisa ancaman kurungan 10 tahun penjara bisa denda itu bisa mencapai 100 atau 1 M atau 1 M itu undang-undang cagar budaya Jadi mungkin kalau melihat undang-undang juga sangat sangat memalukan sangat takut karena kan undang-undang itu 10 tahun 1900 juta itu paling sedikit kalau ngurusnya kata\n",
            "Transkripsi bagian 40...\n",
            "Teks bagian 40: sesama orang yang melanggar salah satu pamali di sini itu Misalkan contohnya kita nggak bisa nggak boleh kencing sembarangan di sini kan itu kan kalau kita kencing mungkin ada Saya kurang tahu lah gitu kan itu kan masih dijaganya begitu jadi masih sakral gitu nah ini lokasi Kenapa disebut penyimpanan bahan-bahan pokok atau perbekalan di sini bekas lumbung atau rasa nyeri di sini dulu bekas penyimpanan bahan-bahan rokok atau perbekalan Kenapa di sini disimpannya karena yang ini nanti kita jalan dari pohon ke depan mesti jalan\n",
            "Transkripsi bagian 41...\n",
            "Teks bagian 41: yang dulu bekas hubungkan Pajajaran sama Majapahit Nah kenapa di sini bekas penyimpanan bahan-bahan pokok atau perbekalan karena mungkin kalau dia kehabisan perbekalan ya mungkin bisa ngambil juga di tempat ini itu versi yang satu versi yang kedua ini dulu bekas pengetesan pengetesan pengetesan masyarakat kalau masyarakat bisa mengangkat batu itu berarti orangnya sakit bisa menjadi masuk anggota prajurit kerajaan itu versi yang kedua versi yang ketiga ini dulu bukan Paman Conan tapi Sanghyang Indeed inditan Kenapa dibilang Sanghyang ngedit-ngedit Jadi kalau batunya masih aslinya menurut cerita Jadi kalau enggak kebetulan bagi orang-orang peziarah enggak bakal menemukan batunya\n",
            "Transkripsi bagian 42...\n",
            "Teks bagian 42: jadi dia tuh berangkat kadang bisa ke Pangandaran bisa ke Kawali bisa ke Panjalu jadi sini Persib banyak ada yang mengatakan ini bekas pengetesan ada yang mengatakan ada yang mengatakan bekas penyimpanan bahan-bahan pokok atau perbekalan Kenapa begitu karena ini jalan kuno yang bekas menghubungkan Pajajaran sama Majapahit Jadi kalau kehabisan Ya kemungkinan apabila di sini Oh jadi di kotak itu teh kalau misalkan yang bahan-bahan makanan disimpannya di sana Jadi ya mungkin kita juga kalau kita nggak tahu Wah di sini bekas penyimpanan Jakarta Nanti kalau di dalamnya mungkin Bagaimana mungkin Kita gali itu kan itu cuman bahasa aja jadi kalau kalau orang-orang dulu ya mohon maaf agak panjang sedikit jadi bahasa orang-orang dulu itu jadi bahasanya jadi kalau ngasih itu bukan langsung isinya tapi cangkang\n",
            "Transkripsi bagian 43...\n",
            "Teks bagian 43: jadi kalau kalau udah isinya pasti tahu kalau cangkangnya pasti dibuka dulu Tapi kan ada itunya tuh apa sih yang tempat duduk itu tuh kan karena ini bekas penyimpanan Jadi kalau nggak dijaga mungkin takutnya ada rampok atau ngambil ini makanan atau apa gitu kan jadi dijaga jadi ini semuanya ini kalau bahasa filosofi sampai basah filosofinya ini semuanya harus dibuka sih Jadi kalau orang-orang dulu tuh enggak ngasih isinya ngasih cangkang kalau kita belum tahu pisang kita dikasih pisang karena enggak tahu pasti dibuang tapi kalau yang udah tahu isinya ini pisang Coba dibuka dalamnya ini juga ini juga semuanya itu harus dibuka Jadi kalau udah kebuka bahasanya itu enggak ada enggak ada\n",
            "Transkripsi bagian 44...\n",
            "Teks bagian 44: orang yang bakal mengatakan ini Bid'ah atau musyrik karena ini harus dibuka dulu kalau belum dibuka ya nggak tahu tapi kalau dibuka Insya Allah kasih tahu ini semuanya 9 lokasi itu Bahasanya filosofi harus dibuka biar tahu kebenarannya Pak Iya tapi kalau diambil semuanya tetap ini lokasi ini tetap menuju ke akhirat kalau dibuka semuanya tapi jangan itu buat ngejaga ya Pak pokoknya ada orang mengatakan kok banyak orang yang ke sini yang ziarah menghadap batu itu lagi minta sama batu nah kita kan baru tahu cangkang iya iya kesini itu ziarah itu kan\n",
            "Transkripsi bagian 45...\n",
            "Teks bagian 45: bukan untuk meminta jarah Iki di sini itu untuk mendoakan Kenapa karena kita bisa sampai begini Itu hasil siapa hasil orang tuaku Jadi kita itu datang ke sini itu mengucapkan rasa Terima kasih cek orang sedang mengandung\n",
            "Transkripsi bagian 46...\n",
            "Teks bagian 46: kenapa nah ini kan Ayah kuburan kuburan terakhir mendapati semua nanti kalau ketemu kemuliaan orang kamu lihat makam Adipati panahan ini kuburan ini udah Islam Ini obatnya ini perkiraan ini abad 16-17 ini Adipati panekan ini dulu bekas Bupati Galuh pertama aba 1617 Kenapa dia bisa dimakamkan di tempat ini karena dia dulu itu proses paham sama adik iparnya waktu dia menyerang ke VOC karena ini udah zaman VOC Jadi kalau yang ini Adipati pingin langsung nyerang takutnya pouch nama kekuatan kalau ada iparnya pingin pingin menambah kekuatan dulu nah waktu ini adiknya panekan lagi main di pinggir sungai di daerah Bojong kertabumi\n",
            "Transkripsi bagian 47...\n",
            "Teks bagian 47: mungkin udah tahu kertabumi dia terbunuh dihanyutkan ke sungai cimuntur diketemukan di pertemuan sungai di sana Lalu dimakamkan di tempat ini udah Islam udah obatnya abad 16-17 ini dulu bekas Bupati Galuh negara Tengah pertama jadi dulu itu Kabupaten Ciamis sekarang tapi adanya di bank Imbanagara Ciamis ini bekas obat ini dia terbunuh oleh dimakamkan di tempat ini cuman jadi cuma ini aja gitu makanya karena kalau bahasanya kan di sini kalau itu kan ada 3 tahap ada Galuh prasejarah Galuh Hindu Galuh Islam kalau prasejarah yang berdiri kan itu pra sejarah karena\n",
            "Transkripsi bagian 48...\n",
            "Teks bagian 48: kalau Hidungnya kayak lambang peribadatan udah ada ukiran Islamnya udah ini Oh iya iya terakhir pertemuan lanjut Oke jadi Boleh silakan Alhamdulillah khususnya orang Tasik mungkin yang dekat dengan Sukapura karena kenapa Karena yang membuka ini peninggalan dari abad 16 itu dalam sawidak Sukapura Tasikmalaya itu dulu di sini Patih terakhir yang ke-9 memegang kaki jadi dari kunci di sini\n",
            "Transkripsi bagian 49...\n",
            "Teks bagian 49: nanti kalau keturunan semuanya pasti ada bahasa ada gereja ada apa aja Atmaja ada Kusuma Ada apalah itu Bahasanya berarti Raden cuman Raden nya nggak dipakai Kenapa karena Raden itu ada yang dikasih dari company ada yang dikasih dari leluhur Jadi kalau leluhur yang disebut Raden itu kan Rahadian rahang itu darah biru jadi kalau Darah Biru kita harus jujur Iya namanya kita orang-orang nggak bakal ada lah kalau dipakai nama itu Raden itu kan bisa berbahaya tapi kalau ada yang dikasih dari komponen gelar gelar dari unsur itu sangat\n",
            "Transkripsi bagian 50...\n",
            "Teks bagian 50: dan chord tak bisa ku\n",
            "Transkripsi bagian 51...\n",
            "Teks bagian 51: yang dulu bekas menghubungkan Pajajaran sama Majapahit Kenapa di sini disebut Patimuan karena itu di lingkar oleh dua sungai jadi ketemu Dua sungai ini cimuntur sama Citanduy oh itu Iya yang ini Sungai Citanduy yang sebelah sana Sungai cimuntur ketemu di pertemuan sana Jadi Sungai Citanduy Pajajaran sama Majapahit jadi ini sampainya kalau di sungai Citanduy sampai ke Laut Kidul ke Cilacap jadi bahasa dari sini ke Banjarnya udah basah Sungai Titanium sampai ke Cilacap Nah di sini mungkin ada suatu keanehan saya enggak bisa jawab juga air di sini enggak benar\n",
            "Transkripsi bagian 52...\n",
            "Teks bagian 52: karena di sini udah keajaiban itu saya sampai sana ya sampai nggak bisa jawab saya nggak bisa ngomong Soalnya ini udah keajaiban ini dapatnya Patimuan pertemuan Dua sungai kalau yang si mundur yang ini dulu bekas yang diketemukan barusan Adipati di sini di pertemuan yang ini bekas diajarkan bayi Ciung Wanara jadi ini bekas di dermaga kuno atau pelabuhan kecil orang-orang Pajajaran sama orang Majapahit ini enggak ada enggak bisa digunakan ke sana gitu naik perahu atau gimana ya Jadi mungkin ya kalau sekarang kan udah Sungai ya tapi dulu mungkin saya juga kurang tahu kalau zaman masa kerajaan kemungkinan ini bukan Sungai begini tapi lautan Nah mungkin karena dulu Itu kan baru banyak pulau adanya kalau Pulau Jawa\n",
            "Transkripsi bagian 53...\n",
            "Teks bagian 53: yang namanya Pulau Panjang ketika daratan masih menyatu disebut juga mungkin dulu Ini kan bukan Sungai begini mungkin lautan jadi masih hilir mudik para pedagang atau apa nggak Sekarang kan udah masyarakat udah banyak ya mungkin rumah-rumahan Jadi kemungkinan ini kenapa karena Rancah juga kan dulunya itu kan bekas Danau Tambaksari Ranca itu makanya di sana ditemukan fosil-fosil sudah terang-terang hewan karena di sana itu kemungkinan Lukas Ganool jadi hewan-hewan Itu posisinya di sana Semua pada mati mungkin ribuan telur atau ayam tahun masih ada tulangnya di gali sama arkeolog ditemukan kita coba ada pertanyaan tapi jangan menanyakan kalau ini Sayang dilihat dari\n",
            "Transkripsi bagian 54...\n",
            "Teks bagian 54: biasanya dibuat Gunung Galunggung meletus di sini kan masih jadi banyak mata pencaharian jadi banyak pasir banyak batu-batuan itu kan untuk dibikin kayak split untuk coran coran itu Kan hasilnya diambil Jadi ini sebagai mata pencaharian orang-orang mungkin Karangpucung Banjar lah itu terpisah Pak Iya karena situs ini peninggalan ini yang luas ini 25 kalau dulu itu 25,5 hektar kalau sekarang kan tinggal 25 hektar mungkin Sudah terbit sama air dulu itu totalnya itu di denahnya itu 25,5 hektar sekarang sudah 25 hektar jadi perjalanan kita dari depan sekarang ke depan lagi kurang lebih 3\n",
            "Transkripsi bagian 55...\n",
            "Teks bagian 55: kalau di Jalan Raya kita berjalan udah berapa aku habis Tapi kalau di sini saya ya mohon maaf bukan saya Saya orang yang berpuasa saya nggak tahu sih enak karena cuacanya ditambah adem lagi ya karena oksigennya masih ada nggak peran masyarakat ini mungkin bisa bebas tapi mungkin sampai sekarang ini hutan masyarakat juga turut menjaga ini peninggalan Kenapa begitu karena mungkin bisa untuk keuntungan masyarakat di sini kalau nggak ada pendengaran ini mungkin orang masyarakat sehingga bisa berdagang\n",
            "Transkripsi bagian 56...\n",
            "Teks bagian 56: tapi nggak ada peninggalan di sini otomatis banyak pengunjung itu bisa untuk penghasilan masyarakat ikut mendukung dalam waktu sampai sekarang gitu ada nggak yang orang-orang kaya pengen mengakui atau mengganggu yang di sini-sini ya Kalau mungkin karena tadi menanyakan begitu ya mungkin masyarakat juga turut menjaga Jadi sebelum terjadi mungkin pertama itu masyarakat bisa membantu kedua undang-undang cagar budaya itu mau nggak mau harus kalau ditunda 1 borongan 10 tahun penjara Ya silakan Makanya kalau saya itu Ya silakan kalau mau rusak\n",
            "Transkripsi bagian 57...\n",
            "Teks bagian 57: itu bahasa Koreanya 1 m 100 juta warna Kenapa bisa begitu saya nggak bisa jawab di mana-mana air pasti menyatu ngapain\n"
          ]
        }
      ]
    },
    {
      "cell_type": "code",
      "source": [
        "# Gabungkan semua transkripsi dan simpan ke file\n",
        "final_transcription = \"\\n\".join(transcriptions)\n",
        "\n",
        "with open(\"hasil_transkripsi_per_menit.txt\", \"w\") as f:\n",
        "    f.write(final_transcription)\n",
        "\n",
        "print(\"Hasil transkripsi berhasil disimpan ke 'hasil_transkripsi_per_menit.txt'\")\n"
      ],
      "metadata": {
        "colab": {
          "base_uri": "https://localhost:8080/"
        },
        "id": "gqpNCba_hr_n",
        "outputId": "a01465ba-0bdf-45ba-abc4-c3cc742b8afc"
      },
      "execution_count": null,
      "outputs": [
        {
          "output_type": "stream",
          "name": "stdout",
          "text": [
            "Hasil transkripsi berhasil disimpan ke 'hasil_transkripsi_per_menit.txt'\n"
          ]
        }
      ]
    }
  ]
}